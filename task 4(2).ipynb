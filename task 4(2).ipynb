{
 "cells": [
  {
   "cell_type": "code",
   "execution_count": 1,
   "id": "e8ea3eea",
   "metadata": {},
   "outputs": [],
   "source": [
    "import pandas as pd\n",
    "\n",
    "uniqlo_df = pd.read_csv('C:/Users/Murtuja afshar/OneDrive/Desktop/job/task 4/uniqlo_tshirts_cleaned_prices.csv')\n",
    "levis_df = pd.read_csv('C:/Users/Murtuja afshar/OneDrive/Desktop/job/task 4/levi_products_cleaned_prices.csv')"
   ]
  },
  {
   "cell_type": "code",
   "execution_count": 2,
   "id": "f9b3f68b",
   "metadata": {},
   "outputs": [
    {
     "data": {
      "text/html": [
       "<div>\n",
       "<style scoped>\n",
       "    .dataframe tbody tr th:only-of-type {\n",
       "        vertical-align: middle;\n",
       "    }\n",
       "\n",
       "    .dataframe tbody tr th {\n",
       "        vertical-align: top;\n",
       "    }\n",
       "\n",
       "    .dataframe thead th {\n",
       "        text-align: right;\n",
       "    }\n",
       "</style>\n",
       "<table border=\"1\" class=\"dataframe\">\n",
       "  <thead>\n",
       "    <tr style=\"text-align: right;\">\n",
       "      <th></th>\n",
       "      <th>Product Name</th>\n",
       "      <th>Price</th>\n",
       "      <th>Rating</th>\n",
       "      <th>Rating Count</th>\n",
       "    </tr>\n",
       "  </thead>\n",
       "  <tbody>\n",
       "    <tr>\n",
       "      <th>0</th>\n",
       "      <td>AIRism Cotton Oversized T-Shirt | Half-Sleeve</td>\n",
       "      <td>$14.90</td>\n",
       "      <td>4.8</td>\n",
       "      <td>999</td>\n",
       "    </tr>\n",
       "    <tr>\n",
       "      <th>1</th>\n",
       "      <td>AIRism Cotton T-Shirt | Striped | Contrast Trim</td>\n",
       "      <td>$14.90</td>\n",
       "      <td>4.8</td>\n",
       "      <td>32</td>\n",
       "    </tr>\n",
       "    <tr>\n",
       "      <th>2</th>\n",
       "      <td>AIRism Cotton T-Shirt</td>\n",
       "      <td>$14.90</td>\n",
       "      <td>4.4</td>\n",
       "      <td>34</td>\n",
       "    </tr>\n",
       "    <tr>\n",
       "      <th>3</th>\n",
       "      <td>AIRism Cotton T-Shirt | V-Neck</td>\n",
       "      <td>$19.90</td>\n",
       "      <td>3.6</td>\n",
       "      <td>3</td>\n",
       "    </tr>\n",
       "    <tr>\n",
       "      <th>4</th>\n",
       "      <td>SUPIMAÂ® Cotton T-Shirt</td>\n",
       "      <td>$24.90</td>\n",
       "      <td>4.7</td>\n",
       "      <td>753</td>\n",
       "    </tr>\n",
       "  </tbody>\n",
       "</table>\n",
       "</div>"
      ],
      "text/plain": [
       "                                      Product Name   Price  Rating  \\\n",
       "0    AIRism Cotton Oversized T-Shirt | Half-Sleeve  $14.90     4.8   \n",
       "1  AIRism Cotton T-Shirt | Striped | Contrast Trim  $14.90     4.8   \n",
       "2                            AIRism Cotton T-Shirt  $14.90     4.4   \n",
       "3                   AIRism Cotton T-Shirt | V-Neck  $19.90     3.6   \n",
       "4                          SUPIMAÂ® Cotton T-Shirt  $24.90     4.7   \n",
       "\n",
       "   Rating Count  \n",
       "0           999  \n",
       "1            32  \n",
       "2            34  \n",
       "3             3  \n",
       "4           753  "
      ]
     },
     "execution_count": 2,
     "metadata": {},
     "output_type": "execute_result"
    }
   ],
   "source": [
    "uniqlo_df.head()"
   ]
  },
  {
   "cell_type": "code",
   "execution_count": 3,
   "id": "552a6f7c",
   "metadata": {},
   "outputs": [
    {
     "data": {
      "text/html": [
       "<div>\n",
       "<style scoped>\n",
       "    .dataframe tbody tr th:only-of-type {\n",
       "        vertical-align: middle;\n",
       "    }\n",
       "\n",
       "    .dataframe tbody tr th {\n",
       "        vertical-align: top;\n",
       "    }\n",
       "\n",
       "    .dataframe thead th {\n",
       "        text-align: right;\n",
       "    }\n",
       "</style>\n",
       "<table border=\"1\" class=\"dataframe\">\n",
       "  <thead>\n",
       "    <tr style=\"text-align: right;\">\n",
       "      <th></th>\n",
       "      <th>Product Name</th>\n",
       "      <th>Price</th>\n",
       "      <th>Rating</th>\n",
       "      <th>Rating Count</th>\n",
       "      <th>Average_price</th>\n",
       "    </tr>\n",
       "  </thead>\n",
       "  <tbody>\n",
       "    <tr>\n",
       "      <th>0</th>\n",
       "      <td>Levi'sÂ® Logo Classic T-Shirt</td>\n",
       "      <td>$24.50</td>\n",
       "      <td>4.3</td>\n",
       "      <td>422</td>\n",
       "      <td>24.50</td>\n",
       "    </tr>\n",
       "    <tr>\n",
       "      <th>1</th>\n",
       "      <td>Levi'sÂ® Sportswear Logo Graphic T-Shirt</td>\n",
       "      <td>Temporary Price Range is | $14.99 - $24.50 | O...</td>\n",
       "      <td>4.2</td>\n",
       "      <td>127</td>\n",
       "      <td>19.75</td>\n",
       "    </tr>\n",
       "    <tr>\n",
       "      <th>2</th>\n",
       "      <td>Classic Western Standard Fit Shirt</td>\n",
       "      <td>Temporary Price is | $48.65 | Original Price w...</td>\n",
       "      <td>4.4</td>\n",
       "      <td>466</td>\n",
       "      <td>59.08</td>\n",
       "    </tr>\n",
       "    <tr>\n",
       "      <th>3</th>\n",
       "      <td>Barstow Western Denim Shirt</td>\n",
       "      <td>Sale Price Range is | $53.98 - $79.50 | Origin...</td>\n",
       "      <td>4.3</td>\n",
       "      <td>369</td>\n",
       "      <td>66.74</td>\n",
       "    </tr>\n",
       "    <tr>\n",
       "      <th>4</th>\n",
       "      <td>Housemark Polo Shirt</td>\n",
       "      <td>Temporary Price is | $19.99 | Original Price w...</td>\n",
       "      <td>4.6</td>\n",
       "      <td>173</td>\n",
       "      <td>29.75</td>\n",
       "    </tr>\n",
       "  </tbody>\n",
       "</table>\n",
       "</div>"
      ],
      "text/plain": [
       "                               Product Name  \\\n",
       "0             Levi'sÂ® Logo Classic T-Shirt   \n",
       "1  Levi'sÂ® Sportswear Logo Graphic T-Shirt   \n",
       "2        Classic Western Standard Fit Shirt   \n",
       "3               Barstow Western Denim Shirt   \n",
       "4                      Housemark Polo Shirt   \n",
       "\n",
       "                                               Price  Rating  Rating Count  \\\n",
       "0                                             $24.50     4.3           422   \n",
       "1  Temporary Price Range is | $14.99 - $24.50 | O...     4.2           127   \n",
       "2  Temporary Price is | $48.65 | Original Price w...     4.4           466   \n",
       "3  Sale Price Range is | $53.98 - $79.50 | Origin...     4.3           369   \n",
       "4  Temporary Price is | $19.99 | Original Price w...     4.6           173   \n",
       "\n",
       "   Average_price  \n",
       "0          24.50  \n",
       "1          19.75  \n",
       "2          59.08  \n",
       "3          66.74  \n",
       "4          29.75  "
      ]
     },
     "execution_count": 3,
     "metadata": {},
     "output_type": "execute_result"
    }
   ],
   "source": [
    "levis_df.head()"
   ]
  },
  {
   "cell_type": "code",
   "execution_count": 4,
   "id": "b7c20a8e",
   "metadata": {
    "scrolled": true
   },
   "outputs": [
    {
     "name": "stdout",
     "output_type": "stream",
     "text": [
      "<class 'pandas.core.frame.DataFrame'>\n",
      "RangeIndex: 14 entries, 0 to 13\n",
      "Data columns (total 4 columns):\n",
      " #   Column        Non-Null Count  Dtype  \n",
      "---  ------        --------------  -----  \n",
      " 0   Product Name  14 non-null     object \n",
      " 1   Price         14 non-null     float64\n",
      " 2   Rating        14 non-null     float64\n",
      " 3   Rating Count  14 non-null     int64  \n",
      "dtypes: float64(2), int64(1), object(1)\n",
      "memory usage: 576.0+ bytes\n",
      "None\n"
     ]
    }
   ],
   "source": [
    "uniqlo_df['Price'] = uniqlo_df['Price'].replace('[\\$,]', '', regex = True).astype(float)\n",
    "\n",
    "print(uniqlo_df.info())"
   ]
  },
  {
   "cell_type": "code",
   "execution_count": 5,
   "id": "23ad5f38",
   "metadata": {},
   "outputs": [
    {
     "name": "stdout",
     "output_type": "stream",
     "text": [
      "<class 'pandas.core.frame.DataFrame'>\n",
      "RangeIndex: 36 entries, 0 to 35\n",
      "Data columns (total 5 columns):\n",
      " #   Column         Non-Null Count  Dtype  \n",
      "---  ------         --------------  -----  \n",
      " 0   Product Name   36 non-null     object \n",
      " 1   Price          36 non-null     object \n",
      " 2   Rating         36 non-null     float64\n",
      " 3   Rating Count   36 non-null     int64  \n",
      " 4   Average_price  36 non-null     float64\n",
      "dtypes: float64(2), int64(1), object(2)\n",
      "memory usage: 1.5+ KB\n",
      "None\n"
     ]
    }
   ],
   "source": [
    "print(levis_df.info())"
   ]
  },
  {
   "cell_type": "code",
   "execution_count": 6,
   "id": "e63fe55f",
   "metadata": {},
   "outputs": [
    {
     "name": "stdout",
     "output_type": "stream",
     "text": [
      "           Price     Rating  Rating Count\n",
      "count  14.000000  14.000000     14.000000\n",
      "mean   19.257143   4.592857    255.571429\n",
      "std     8.353784   0.345219    376.441581\n",
      "min     7.900000   3.600000      3.000000\n",
      "25%    14.900000   4.500000     12.500000\n",
      "50%    17.400000   4.700000     33.500000\n",
      "75%    24.900000   4.775000    327.500000\n",
      "max    39.900000   5.000000    999.000000\n"
     ]
    }
   ],
   "source": [
    "print(uniqlo_df.describe())"
   ]
  },
  {
   "cell_type": "code",
   "execution_count": 7,
   "id": "de5458d3",
   "metadata": {},
   "outputs": [
    {
     "name": "stdout",
     "output_type": "stream",
     "text": [
      "          Rating  Rating Count  Average_price\n",
      "count  36.000000     36.000000      36.000000\n",
      "mean    4.241667     97.000000      34.932500\n",
      "std     0.421816    131.755835      16.282315\n",
      "min     2.600000      1.000000      18.480000\n",
      "25%     4.000000     12.750000      22.175000\n",
      "50%     4.300000     37.500000      28.240000\n",
      "75%     4.500000    104.000000      46.557500\n",
      "max     5.000000    485.000000      69.500000\n"
     ]
    }
   ],
   "source": [
    "print(levis_df.describe())"
   ]
  },
  {
   "cell_type": "code",
   "execution_count": 8,
   "id": "acba09b7",
   "metadata": {},
   "outputs": [
    {
     "data": {
      "image/png": "[encoded data removed]",
      "text/plain": [
       "<Figure size 432x288 with 1 Axes>"
      ]
     },
     "metadata": {
      "needs_background": "light"
     },
     "output_type": "display_data"
    },
    {
     "data": {
      "image/png": "[encoded data removed]",
      "text/plain": [
       "<Figure size 432x288 with 1 Axes>"
      ]
     },
     "metadata": {
      "needs_background": "light"
     },
     "output_type": "display_data"
    }
   ],
   "source": [
    "#visual data analysis\n",
    "#Histogram\n",
    "\n",
    "import seaborn as sns\n",
    "import matplotlib.pyplot as plt\n",
    "\n",
    "sns.histplot(uniqlo_df['Price'] ,bins=5 ,kde=True)\n",
    "plt.title('Uniqlo Price Distribution')\n",
    "plt.xlabel('Price($)')\n",
    "plt.ylabel('Product Count')\n",
    "plt.show()\n",
    "\n",
    "sns.histplot(levis_df['Average_price'] ,bins=5 ,kde=True)\n",
    "plt.title(\"Levi's Price Distribution\")\n",
    "plt.xlabel('Average Price($)')\n",
    "plt.ylabel('Product Count')\n",
    "plt.show()"
   ]
  },
  {
   "cell_type": "code",
   "execution_count": 9,
   "id": "0069097f",
   "metadata": {},
   "outputs": [
    {
     "data": {
      "image/png": "[encoded data removed]",
      "text/plain": [
       "<Figure size 432x288 with 1 Axes>"
      ]
     },
     "metadata": {
      "needs_background": "light"
     },
     "output_type": "display_data"
    },
    {
     "data": {
      "image/png": "[encoded data removed]",
      "text/plain": [
       "<Figure size 432x288 with 1 Axes>"
      ]
     },
     "metadata": {
      "needs_background": "light"
     },
     "output_type": "display_data"
    }
   ],
   "source": [
    "sns.regplot(data=uniqlo_df, x='Price', y='Rating', scatter=True, ci=None)\n",
    "plt.title('Uniqlo: Rating vs Price with Regression Line')\n",
    "plt.ylabel('Rating')\n",
    "plt.xlabel('Price($)')\n",
    "plt.show()\n",
    "\n",
    "sns.regplot(data=levis_df, x='Average_price', y='Rating', scatter=True, ci=None, color='green')\n",
    "plt.title('levis: Average_price vs Price')\n",
    "plt.ylabel('Rating')\n",
    "plt.xlabel('Average_price($)')\n",
    "plt.show()"
   ]
  },
  {
   "cell_type": "code",
   "execution_count": 10,
   "id": "6c67321f",
   "metadata": {},
   "outputs": [
    {
     "data": {
      "image/png": "[encoded data removed]",
      "text/plain": [
       "<Figure size 432x288 with 1 Axes>"
      ]
     },
     "metadata": {
      "needs_background": "light"
     },
     "output_type": "display_data"
    }
   ],
   "source": [
    "#calculating Promotions in Levi's dataset using Lambda\n",
    "#countplot of promotion\n",
    "\n",
    "levis_df['Promotion'] = levis_df['Price'].apply(lambda x: 'Yes' if 'Temporary' in str(x) or 'Sale' in str(x) else 'No')\n",
    "\n",
    "sns.countplot(data=levis_df, x='Promotion')\n",
    "plt.title(\"Levi's Promotional vs Regular price\")\n",
    "plt.xlabel('Promotion Available')\n",
    "plt.ylabel('Number of products')\n",
    "plt.show()"
   ]
  },
  {
   "cell_type": "code",
   "execution_count": 11,
   "id": "3b1c68f8",
   "metadata": {},
   "outputs": [
    {
     "data": {
      "text/html": [
       "<div>\n",
       "<style scoped>\n",
       "    .dataframe tbody tr th:only-of-type {\n",
       "        vertical-align: middle;\n",
       "    }\n",
       "\n",
       "    .dataframe tbody tr th {\n",
       "        vertical-align: top;\n",
       "    }\n",
       "\n",
       "    .dataframe thead th {\n",
       "        text-align: right;\n",
       "    }\n",
       "</style>\n",
       "<table border=\"1\" class=\"dataframe\">\n",
       "  <thead>\n",
       "    <tr style=\"text-align: right;\">\n",
       "      <th></th>\n",
       "      <th>Product Name</th>\n",
       "      <th>Price</th>\n",
       "      <th>Rating</th>\n",
       "      <th>Rating Count</th>\n",
       "      <th>Average_price</th>\n",
       "      <th>Promotion</th>\n",
       "      <th>cluster</th>\n",
       "    </tr>\n",
       "  </thead>\n",
       "  <tbody>\n",
       "    <tr>\n",
       "      <th>0</th>\n",
       "      <td>Levi'sÂ® Logo Classic T-Shirt</td>\n",
       "      <td>$24.50</td>\n",
       "      <td>4.3</td>\n",
       "      <td>422</td>\n",
       "      <td>24.50</td>\n",
       "      <td>No</td>\n",
       "      <td>2</td>\n",
       "    </tr>\n",
       "    <tr>\n",
       "      <th>1</th>\n",
       "      <td>Levi'sÂ® Sportswear Logo Graphic T-Shirt</td>\n",
       "      <td>Temporary Price Range is | $14.99 - $24.50 | O...</td>\n",
       "      <td>4.2</td>\n",
       "      <td>127</td>\n",
       "      <td>19.75</td>\n",
       "      <td>Yes</td>\n",
       "      <td>1</td>\n",
       "    </tr>\n",
       "    <tr>\n",
       "      <th>2</th>\n",
       "      <td>Classic Western Standard Fit Shirt</td>\n",
       "      <td>Temporary Price is | $48.65 | Original Price w...</td>\n",
       "      <td>4.4</td>\n",
       "      <td>466</td>\n",
       "      <td>59.08</td>\n",
       "      <td>Yes</td>\n",
       "      <td>2</td>\n",
       "    </tr>\n",
       "    <tr>\n",
       "      <th>3</th>\n",
       "      <td>Barstow Western Denim Shirt</td>\n",
       "      <td>Sale Price Range is | $53.98 - $79.50 | Origin...</td>\n",
       "      <td>4.3</td>\n",
       "      <td>369</td>\n",
       "      <td>66.74</td>\n",
       "      <td>Yes</td>\n",
       "      <td>2</td>\n",
       "    </tr>\n",
       "    <tr>\n",
       "      <th>4</th>\n",
       "      <td>Housemark Polo Shirt</td>\n",
       "      <td>Temporary Price is | $19.99 | Original Price w...</td>\n",
       "      <td>4.6</td>\n",
       "      <td>173</td>\n",
       "      <td>29.75</td>\n",
       "      <td>Yes</td>\n",
       "      <td>1</td>\n",
       "    </tr>\n",
       "  </tbody>\n",
       "</table>\n",
       "</div>"
      ],
      "text/plain": [
       "                               Product Name  \\\n",
       "0             Levi'sÂ® Logo Classic T-Shirt   \n",
       "1  Levi'sÂ® Sportswear Logo Graphic T-Shirt   \n",
       "2        Classic Western Standard Fit Shirt   \n",
       "3               Barstow Western Denim Shirt   \n",
       "4                      Housemark Polo Shirt   \n",
       "\n",
       "                                               Price  Rating  Rating Count  \\\n",
       "0                                             $24.50     4.3           422   \n",
       "1  Temporary Price Range is | $14.99 - $24.50 | O...     4.2           127   \n",
       "2  Temporary Price is | $48.65 | Original Price w...     4.4           466   \n",
       "3  Sale Price Range is | $53.98 - $79.50 | Origin...     4.3           369   \n",
       "4  Temporary Price is | $19.99 | Original Price w...     4.6           173   \n",
       "\n",
       "   Average_price Promotion  cluster  \n",
       "0          24.50        No        2  \n",
       "1          19.75       Yes        1  \n",
       "2          59.08       Yes        2  \n",
       "3          66.74       Yes        2  \n",
       "4          29.75       Yes        1  "
      ]
     },
     "execution_count": 11,
     "metadata": {},
     "output_type": "execute_result"
    }
   ],
   "source": [
    "#clustering using K-means\n",
    "from sklearn.cluster import KMeans\n",
    "from sklearn.preprocessing import StandardScaler\n",
    "\n",
    "#scaling data\n",
    "levis_cluster_data = levis_df[['Average_price','Rating','Rating Count']]\n",
    "scaler = StandardScaler()\n",
    "scaled_data = scaler.fit_transform(levis_cluster_data)\n",
    "\n",
    "#Kmeans\n",
    "kmeans = KMeans(n_clusters=3, random_state=42)\n",
    "levis_df['cluster']=kmeans.fit_predict(scaled_data)\n",
    "\n",
    "levis_df.head()"
   ]
  },
  {
   "cell_type": "code",
   "execution_count": 16,
   "id": "758a7951",
   "metadata": {},
   "outputs": [
    {
     "data": {
      "text/html": [
       "<div>\n",
       "<style scoped>\n",
       "    .dataframe tbody tr th:only-of-type {\n",
       "        vertical-align: middle;\n",
       "    }\n",
       "\n",
       "    .dataframe tbody tr th {\n",
       "        vertical-align: top;\n",
       "    }\n",
       "\n",
       "    .dataframe thead th {\n",
       "        text-align: right;\n",
       "    }\n",
       "</style>\n",
       "<table border=\"1\" class=\"dataframe\">\n",
       "  <thead>\n",
       "    <tr style=\"text-align: right;\">\n",
       "      <th></th>\n",
       "      <th>Product Name</th>\n",
       "      <th>Price</th>\n",
       "      <th>Rating</th>\n",
       "      <th>Rating Count</th>\n",
       "      <th>cluster</th>\n",
       "    </tr>\n",
       "  </thead>\n",
       "  <tbody>\n",
       "    <tr>\n",
       "      <th>0</th>\n",
       "      <td>AIRism Cotton Oversized T-Shirt | Half-Sleeve</td>\n",
       "      <td>14.9</td>\n",
       "      <td>4.8</td>\n",
       "      <td>999</td>\n",
       "      <td>0</td>\n",
       "    </tr>\n",
       "    <tr>\n",
       "      <th>1</th>\n",
       "      <td>AIRism Cotton T-Shirt | Striped | Contrast Trim</td>\n",
       "      <td>14.9</td>\n",
       "      <td>4.8</td>\n",
       "      <td>32</td>\n",
       "      <td>1</td>\n",
       "    </tr>\n",
       "    <tr>\n",
       "      <th>2</th>\n",
       "      <td>AIRism Cotton T-Shirt</td>\n",
       "      <td>14.9</td>\n",
       "      <td>4.4</td>\n",
       "      <td>34</td>\n",
       "      <td>1</td>\n",
       "    </tr>\n",
       "    <tr>\n",
       "      <th>3</th>\n",
       "      <td>AIRism Cotton T-Shirt | V-Neck</td>\n",
       "      <td>19.9</td>\n",
       "      <td>3.6</td>\n",
       "      <td>3</td>\n",
       "      <td>1</td>\n",
       "    </tr>\n",
       "    <tr>\n",
       "      <th>4</th>\n",
       "      <td>SUPIMAÂ® Cotton T-Shirt</td>\n",
       "      <td>24.9</td>\n",
       "      <td>4.7</td>\n",
       "      <td>753</td>\n",
       "      <td>0</td>\n",
       "    </tr>\n",
       "  </tbody>\n",
       "</table>\n",
       "</div>"
      ],
      "text/plain": [
       "                                      Product Name  Price  Rating  \\\n",
       "0    AIRism Cotton Oversized T-Shirt | Half-Sleeve   14.9     4.8   \n",
       "1  AIRism Cotton T-Shirt | Striped | Contrast Trim   14.9     4.8   \n",
       "2                            AIRism Cotton T-Shirt   14.9     4.4   \n",
       "3                   AIRism Cotton T-Shirt | V-Neck   19.9     3.6   \n",
       "4                          SUPIMAÂ® Cotton T-Shirt   24.9     4.7   \n",
       "\n",
       "   Rating Count  cluster  \n",
       "0           999        0  \n",
       "1            32        1  \n",
       "2            34        1  \n",
       "3             3        1  \n",
       "4           753        0  "
      ]
     },
     "execution_count": 16,
     "metadata": {},
     "output_type": "execute_result"
    }
   ],
   "source": [
    "from sklearn.cluster import KMeans\n",
    "from sklearn.preprocessing import StandardScaler\n",
    "\n",
    "uniqlo_cluster_data = uniqlo_df[['Price','Rating','Rating Count']]\n",
    "scaler = StandardScaler()\n",
    "scaled_data_2 = scaler.fit_transform(uniqlo_cluster_data)\n",
    "\n",
    "kmeans = KMeans(n_clusters=3, random_state=42)\n",
    "uniqlo_df['cluster'] = kmeans.fit_predict(scaled_data_2)\n",
    "\n",
    "uniqlo_df.head()"
   ]
  },
  {
   "cell_type": "code",
   "execution_count": 24,
   "id": "79f6b030",
   "metadata": {},
   "outputs": [
    {
     "data": {
      "image/png": "[encoded data removed]",
      "text/plain": [
       "<Figure size 432x288 with 1 Axes>"
      ]
     },
     "metadata": {
      "needs_background": "light"
     },
     "output_type": "display_data"
    },
    {
     "data": {
      "image/png": "[encoded data removed]",
      "text/plain": [
       "<Figure size 432x288 with 1 Axes>"
      ]
     },
     "metadata": {
      "needs_background": "light"
     },
     "output_type": "display_data"
    }
   ],
   "source": [
    "#visualization\n",
    "\n",
    "sns.stripplot(data=uniqlo_df, x='Price', y='Rating', hue='cluster', palette='viridis', jitter=0.15, size=10)\n",
    "plt.title('uniqlo: Price vs Rating by Cluster')\n",
    "plt.xlabel('Price($)')\n",
    "plt.ylabel('Rating')\n",
    "plt.legend(title='cluster', loc='lower right')\n",
    "plt.show()\n",
    "\n",
    "\n",
    "sns.stripplot(data=uniqlo_df, x='Price', y='Rating Count', hue='cluster', palette='viridis', jitter=0.15, size=10)\n",
    "plt.title('uniqlo: Price vs Rating Count by Cluster')\n",
    "plt.xlabel('Price($)')\n",
    "plt.ylabel('Rating Count')\n",
    "plt.legend(title='cluster', loc='lower right')\n",
    "plt.show()"
   ]
  },
  {
   "cell_type": "code",
   "execution_count": 27,
   "id": "26f8162b",
   "metadata": {},
   "outputs": [
    {
     "data": {
      "image/png": "[encoded data removed]",
      "text/plain": [
       "<Figure size 432x288 with 1 Axes>"
      ]
     },
     "metadata": {
      "needs_background": "light"
     },
     "output_type": "display_data"
    },
    {
     "data": {
      "image/png": "[encoded data removed]",
      "text/plain": [
       "<Figure size 432x288 with 1 Axes>"
      ]
     },
     "metadata": {
      "needs_background": "light"
     },
     "output_type": "display_data"
    }
   ],
   "source": [
    "sns.stripplot(data=levis_df, x='Average_price', y='Rating', hue='cluster', palette='viridis', jitter=0.15, size=10)\n",
    "plt.title('levis: Avg Price vs Rating by Cluster')\n",
    "plt.xlabel('Avg Price($)')\n",
    "plt.ylabel('Rating')\n",
    "plt.legend(title='cluster', loc='lower right')\n",
    "plt.xticks(rotation=45)\n",
    "plt.locator_params(axis='x', nbins=8)\n",
    "plt.tight_layout()\n",
    "plt.show()\n",
    "\n",
    "\n",
    "sns.stripplot(data=levis_df, x='Average_price', y='Rating Count', hue='cluster', palette='viridis', jitter=0.15, size=10)\n",
    "plt.title('levis: Avg Price vs Rating Count by Cluster')\n",
    "plt.xlabel('Avg Price($)')\n",
    "plt.ylabel('Rating Count')\n",
    "plt.legend(title='cluster', loc='lower right')\n",
    "plt.xticks(rotation=45)\n",
    "plt.locator_params(axis='x', nbins=8)\n",
    "plt.show()"
   ]
  },
  {
   "cell_type": "code",
   "execution_count": null,
   "id": "5d3614df",
   "metadata": {},
   "outputs": [],
   "source": []
  }
 ],
 "metadata": {
  "kernelspec": {
   "display_name": "Python 3 (ipykernel)",
   "language": "python",
   "name": "python3"
  },
  "language_info": {
   "codemirror_mode": {
    "name": "ipython",
    "version": 3
   },
   "file_extension": ".py",
   "mimetype": "text/x-python",
   "name": "python",
   "nbconvert_exporter": "python",
   "pygments_lexer": "ipython3",
   "version": "3.9.12"
  }
 },
 "nbformat": 4,
 "nbformat_minor": 5
}
